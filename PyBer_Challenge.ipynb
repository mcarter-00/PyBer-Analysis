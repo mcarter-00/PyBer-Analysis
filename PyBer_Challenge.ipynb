{
 "cells": [
  {
   "cell_type": "markdown",
   "metadata": {},
   "source": [
    "# PyBer Challenge\n",
    "## Objective\n",
    "Determine if there is a correlation between the average fare and the total rides for each city type for the individual scatter plots, and if there is any statistical significance between the different city types for each box-and-whisker plot.\n",
    "\n",
    "## Tasks\n",
    "1. Create a PyBer Summary DataFrame for each city type:\n",
    "    * Total Rides\n",
    "    * Total Drivers\n",
    "    * Total Fares\n",
    "    * Average Fare per Ride\n",
    "    * Average Fare per Driver\n",
    "2. Create a Multiple-Line Plot for the sum of the fares for each city type."
   ]
  },
  {
   "cell_type": "markdown",
   "metadata": {},
   "source": [
    "### Notebook Setup"
   ]
  },
  {
   "cell_type": "code",
   "execution_count": 1,
   "metadata": {},
   "outputs": [],
   "source": [
    "# Add Matplotlib inline magic command\n",
    "%matplotlib inline\n",
    "\n",
    "# Setup dependencies\n",
    "import matplotlib.pyplot as plt\n",
    "import pandas as pd\n",
    "import numpy as np\n",
    "import os"
   ]
  },
  {
   "cell_type": "code",
   "execution_count": 2,
   "metadata": {},
   "outputs": [],
   "source": [
    "# Data files to load\n",
    "city_data_to_load = os.path.join(\"Resources\", \"city_data.csv\")\n",
    "ride_data_to_load = os.path.join(\"Resources\", \"ride_data.csv\")\n",
    "\n",
    "# Read data files and store them in a Pandas DataFrame\n",
    "city_data_df = pd.read_csv(city_data_to_load)\n",
    "ride_data_df = pd.read_csv(ride_data_to_load)"
   ]
  },
  {
   "cell_type": "markdown",
   "metadata": {},
   "source": [
    "### Data Cleaning"
   ]
  },
  {
   "cell_type": "code",
   "execution_count": 3,
   "metadata": {},
   "outputs": [
    {
     "data": {
      "text/plain": [
       "city            120\n",
       "driver_count    120\n",
       "type            120\n",
       "dtype: int64"
      ]
     },
     "execution_count": 3,
     "metadata": {},
     "output_type": "execute_result"
    }
   ],
   "source": [
    "city_data_df.count()"
   ]
  },
  {
   "cell_type": "code",
   "execution_count": 4,
   "metadata": {},
   "outputs": [
    {
     "data": {
      "text/plain": [
       "city            0\n",
       "driver_count    0\n",
       "type            0\n",
       "dtype: int64"
      ]
     },
     "execution_count": 4,
     "metadata": {},
     "output_type": "execute_result"
    }
   ],
   "source": [
    "city_data_df.isnull().sum()"
   ]
  },
  {
   "cell_type": "code",
   "execution_count": 5,
   "metadata": {},
   "outputs": [
    {
     "data": {
      "text/plain": [
       "city            object\n",
       "driver_count     int64\n",
       "type            object\n",
       "dtype: object"
      ]
     },
     "execution_count": 5,
     "metadata": {},
     "output_type": "execute_result"
    }
   ],
   "source": [
    "city_data_df.dtypes"
   ]
  },
  {
   "cell_type": "code",
   "execution_count": 6,
   "metadata": {},
   "outputs": [
    {
     "data": {
      "text/plain": [
       "array(['Urban', 'Suburban', 'Rural'], dtype=object)"
      ]
     },
     "execution_count": 6,
     "metadata": {},
     "output_type": "execute_result"
    }
   ],
   "source": [
    "city_data_df[\"type\"].unique()"
   ]
  },
  {
   "cell_type": "code",
   "execution_count": 7,
   "metadata": {},
   "outputs": [
    {
     "data": {
      "text/plain": [
       "city       2375\n",
       "date       2375\n",
       "fare       2375\n",
       "ride_id    2375\n",
       "dtype: int64"
      ]
     },
     "execution_count": 7,
     "metadata": {},
     "output_type": "execute_result"
    }
   ],
   "source": [
    "ride_data_df.count()"
   ]
  },
  {
   "cell_type": "code",
   "execution_count": 8,
   "metadata": {},
   "outputs": [
    {
     "data": {
      "text/plain": [
       "city       0\n",
       "date       0\n",
       "fare       0\n",
       "ride_id    0\n",
       "dtype: int64"
      ]
     },
     "execution_count": 8,
     "metadata": {},
     "output_type": "execute_result"
    }
   ],
   "source": [
    "ride_data_df.isnull().sum()"
   ]
  },
  {
   "cell_type": "code",
   "execution_count": 9,
   "metadata": {},
   "outputs": [
    {
     "data": {
      "text/plain": [
       "city        object\n",
       "date        object\n",
       "fare       float64\n",
       "ride_id      int64\n",
       "dtype: object"
      ]
     },
     "execution_count": 9,
     "metadata": {},
     "output_type": "execute_result"
    }
   ],
   "source": [
    "ride_data_df.dtypes"
   ]
  },
  {
   "cell_type": "markdown",
   "metadata": {},
   "source": [
    "### Merge DataFrames"
   ]
  },
  {
   "cell_type": "code",
   "execution_count": 10,
   "metadata": {},
   "outputs": [
    {
     "data": {
      "text/plain": [
       "city             object\n",
       "date             object\n",
       "fare            float64\n",
       "ride_id           int64\n",
       "driver_count      int64\n",
       "type             object\n",
       "dtype: object"
      ]
     },
     "execution_count": 10,
     "metadata": {},
     "output_type": "execute_result"
    }
   ],
   "source": [
    "# Combine data into a single data\n",
    "pyber_data_df = pd.merge(ride_data_df, city_data_df, how=\"left\", on=[\"city\", \"city\"])\n",
    "pyber_data_df.dtypes"
   ]
  },
  {
   "cell_type": "markdown",
   "metadata": {},
   "source": [
    "## Task 1: Create PyBer Summary DataFrame"
   ]
  },
  {
   "cell_type": "markdown",
   "metadata": {},
   "source": [
    "### Calculate the total number of rides in each City Type"
   ]
  },
  {
   "cell_type": "code",
   "execution_count": 11,
   "metadata": {},
   "outputs": [
    {
     "data": {
      "text/plain": [
       "type\n",
       "Rural        125\n",
       "Suburban     625\n",
       "Urban       1625\n",
       "Name: ride_id, dtype: int64"
      ]
     },
     "execution_count": 11,
     "metadata": {},
     "output_type": "execute_result"
    }
   ],
   "source": [
    "total_rides_by_city_type = pyber_data_df.groupby([\"type\"]).count()[\"ride_id\"]\n",
    "total_rides_by_city_type"
   ]
  },
  {
   "cell_type": "markdown",
   "metadata": {},
   "source": [
    "### Calculate the total number of drivers in each City Type"
   ]
  },
  {
   "cell_type": "code",
   "execution_count": 12,
   "metadata": {},
   "outputs": [
    {
     "data": {
      "text/plain": [
       "type\n",
       "Rural         78\n",
       "Suburban     490\n",
       "Urban       2405\n",
       "Name: driver_count, dtype: int64"
      ]
     },
     "execution_count": 12,
     "metadata": {},
     "output_type": "execute_result"
    }
   ],
   "source": [
    "total_drivers_by_city_type = city_data_df.groupby([\"type\"]).sum()[\"driver_count\"]\n",
    "total_drivers_by_city_type"
   ]
  },
  {
   "cell_type": "markdown",
   "metadata": {},
   "source": [
    "### Calculate the total fares in each City Type"
   ]
  },
  {
   "cell_type": "code",
   "execution_count": 13,
   "metadata": {},
   "outputs": [
    {
     "data": {
      "text/plain": [
       "type\n",
       "Rural        4327.93\n",
       "Suburban    19356.33\n",
       "Urban       39854.38\n",
       "Name: fare, dtype: float64"
      ]
     },
     "execution_count": 13,
     "metadata": {},
     "output_type": "execute_result"
    }
   ],
   "source": [
    "total_fares_by_city_type = pyber_data_df.groupby([\"type\"]).sum()[\"fare\"]\n",
    "total_fares_by_city_type"
   ]
  },
  {
   "cell_type": "markdown",
   "metadata": {},
   "source": [
    "### Calculate the average fare per ride in each City Type"
   ]
  },
  {
   "cell_type": "code",
   "execution_count": 14,
   "metadata": {},
   "outputs": [
    {
     "data": {
      "text/plain": [
       "type\n",
       "Rural       34.623440\n",
       "Suburban    30.970128\n",
       "Urban       24.525772\n",
       "dtype: float64"
      ]
     },
     "execution_count": 14,
     "metadata": {},
     "output_type": "execute_result"
    }
   ],
   "source": [
    "avgfares_perride_by_city_type = total_fares_by_city_type / total_rides_by_city_type\n",
    "avgfares_perride_by_city_type"
   ]
  },
  {
   "cell_type": "markdown",
   "metadata": {},
   "source": [
    "### Calculate the average fare per driver in each City Type"
   ]
  },
  {
   "cell_type": "code",
   "execution_count": 15,
   "metadata": {},
   "outputs": [
    {
     "data": {
      "text/plain": [
       "type\n",
       "Rural       55.486282\n",
       "Suburban    39.502714\n",
       "Urban       16.571468\n",
       "dtype: float64"
      ]
     },
     "execution_count": 15,
     "metadata": {},
     "output_type": "execute_result"
    }
   ],
   "source": [
    "avgfare_perdriver_by_city_type = total_fares_by_city_type / total_drivers_by_city_type\n",
    "avgfare_perdriver_by_city_type"
   ]
  },
  {
   "cell_type": "markdown",
   "metadata": {},
   "source": [
    "### Remove the index name "
   ]
  },
  {
   "cell_type": "code",
   "execution_count": 16,
   "metadata": {},
   "outputs": [
    {
     "data": {
      "text/plain": [
       "Rural        125\n",
       "Suburban     625\n",
       "Urban       1625\n",
       "Name: ride_id, dtype: int64"
      ]
     },
     "execution_count": 16,
     "metadata": {},
     "output_type": "execute_result"
    }
   ],
   "source": [
    "total_rides_by_city_type.index.name = None\n",
    "total_rides_by_city_type"
   ]
  },
  {
   "cell_type": "code",
   "execution_count": 17,
   "metadata": {},
   "outputs": [
    {
     "data": {
      "text/plain": [
       "Rural         78\n",
       "Suburban     490\n",
       "Urban       2405\n",
       "Name: driver_count, dtype: int64"
      ]
     },
     "execution_count": 17,
     "metadata": {},
     "output_type": "execute_result"
    }
   ],
   "source": [
    "total_drivers_by_city_type.index.name = None\n",
    "total_drivers_by_city_type"
   ]
  },
  {
   "cell_type": "code",
   "execution_count": 18,
   "metadata": {},
   "outputs": [
    {
     "data": {
      "text/plain": [
       "Rural        4327.93\n",
       "Suburban    19356.33\n",
       "Urban       39854.38\n",
       "Name: fare, dtype: float64"
      ]
     },
     "execution_count": 18,
     "metadata": {},
     "output_type": "execute_result"
    }
   ],
   "source": [
    "total_fares_by_city_type.index.name = None\n",
    "total_fares_by_city_type"
   ]
  },
  {
   "cell_type": "markdown",
   "metadata": {},
   "source": [
    "### Build the PyBer Summary DataFrame"
   ]
  },
  {
   "cell_type": "code",
   "execution_count": 19,
   "metadata": {},
   "outputs": [
    {
     "data": {
      "text/html": [
       "<div>\n",
       "<style scoped>\n",
       "    .dataframe tbody tr th:only-of-type {\n",
       "        vertical-align: middle;\n",
       "    }\n",
       "\n",
       "    .dataframe tbody tr th {\n",
       "        vertical-align: top;\n",
       "    }\n",
       "\n",
       "    .dataframe thead th {\n",
       "        text-align: right;\n",
       "    }\n",
       "</style>\n",
       "<table border=\"1\" class=\"dataframe\">\n",
       "  <thead>\n",
       "    <tr style=\"text-align: right;\">\n",
       "      <th></th>\n",
       "      <th>Total Rides</th>\n",
       "      <th>Total Drivers</th>\n",
       "      <th>Total Fares</th>\n",
       "      <th>Average Fare per Ride</th>\n",
       "      <th>Average Fare per Driver</th>\n",
       "    </tr>\n",
       "  </thead>\n",
       "  <tbody>\n",
       "    <tr>\n",
       "      <td>Rural</td>\n",
       "      <td>125</td>\n",
       "      <td>78</td>\n",
       "      <td>4327.93</td>\n",
       "      <td>34.623440</td>\n",
       "      <td>55.486282</td>\n",
       "    </tr>\n",
       "    <tr>\n",
       "      <td>Suburban</td>\n",
       "      <td>625</td>\n",
       "      <td>490</td>\n",
       "      <td>19356.33</td>\n",
       "      <td>30.970128</td>\n",
       "      <td>39.502714</td>\n",
       "    </tr>\n",
       "    <tr>\n",
       "      <td>Urban</td>\n",
       "      <td>1625</td>\n",
       "      <td>2405</td>\n",
       "      <td>39854.38</td>\n",
       "      <td>24.525772</td>\n",
       "      <td>16.571468</td>\n",
       "    </tr>\n",
       "  </tbody>\n",
       "</table>\n",
       "</div>"
      ],
      "text/plain": [
       "          Total Rides  Total Drivers  Total Fares  Average Fare per Ride  \\\n",
       "Rural             125             78      4327.93              34.623440   \n",
       "Suburban          625            490     19356.33              30.970128   \n",
       "Urban            1625           2405     39854.38              24.525772   \n",
       "\n",
       "          Average Fare per Driver  \n",
       "Rural                   55.486282  \n",
       "Suburban                39.502714  \n",
       "Urban                   16.571468  "
      ]
     },
     "execution_count": 19,
     "metadata": {},
     "output_type": "execute_result"
    }
   ],
   "source": [
    "summary_df = pd.DataFrame()\n",
    "\n",
    "summary_df[\"Total Rides\"] = total_rides_by_city_type\n",
    "summary_df[\"Total Drivers\"] = total_drivers_by_city_type\n",
    "summary_df[\"Total Fares\"] = total_fares_by_city_type\n",
    "summary_df[\"Average Fare per Ride\"] = avgfares_perride_by_city_type\n",
    "summary_df[\"Average Fare per Driver\"] = avgfare_perdriver_by_city_type\n",
    "\n",
    "summary_df"
   ]
  },
  {
   "cell_type": "code",
   "execution_count": 20,
   "metadata": {},
   "outputs": [
    {
     "data": {
      "text/plain": [
       "Total Rides                  int64\n",
       "Total Drivers                int64\n",
       "Total Fares                float64\n",
       "Average Fare per Ride      float64\n",
       "Average Fare per Driver    float64\n",
       "dtype: object"
      ]
     },
     "execution_count": 20,
     "metadata": {},
     "output_type": "execute_result"
    }
   ],
   "source": [
    "summary_df.dtypes"
   ]
  },
  {
   "cell_type": "markdown",
   "metadata": {},
   "source": [
    "### Format the PyBer Summary DataFrame"
   ]
  },
  {
   "cell_type": "code",
   "execution_count": 21,
   "metadata": {},
   "outputs": [
    {
     "data": {
      "text/html": [
       "<div>\n",
       "<style scoped>\n",
       "    .dataframe tbody tr th:only-of-type {\n",
       "        vertical-align: middle;\n",
       "    }\n",
       "\n",
       "    .dataframe tbody tr th {\n",
       "        vertical-align: top;\n",
       "    }\n",
       "\n",
       "    .dataframe thead th {\n",
       "        text-align: right;\n",
       "    }\n",
       "</style>\n",
       "<table border=\"1\" class=\"dataframe\">\n",
       "  <thead>\n",
       "    <tr style=\"text-align: right;\">\n",
       "      <th></th>\n",
       "      <th>Total Rides</th>\n",
       "      <th>Total Drivers</th>\n",
       "      <th>Total Fares</th>\n",
       "      <th>Average Fare per Ride</th>\n",
       "      <th>Average Fare per Driver</th>\n",
       "    </tr>\n",
       "  </thead>\n",
       "  <tbody>\n",
       "    <tr>\n",
       "      <td>Rural</td>\n",
       "      <td>125</td>\n",
       "      <td>78</td>\n",
       "      <td>$4,327.93</td>\n",
       "      <td>$34.62</td>\n",
       "      <td>$55.49</td>\n",
       "    </tr>\n",
       "    <tr>\n",
       "      <td>Suburban</td>\n",
       "      <td>625</td>\n",
       "      <td>490</td>\n",
       "      <td>$19,356.33</td>\n",
       "      <td>$30.97</td>\n",
       "      <td>$39.50</td>\n",
       "    </tr>\n",
       "    <tr>\n",
       "      <td>Urban</td>\n",
       "      <td>1,625</td>\n",
       "      <td>2,405</td>\n",
       "      <td>$39,854.38</td>\n",
       "      <td>$24.53</td>\n",
       "      <td>$16.57</td>\n",
       "    </tr>\n",
       "  </tbody>\n",
       "</table>\n",
       "</div>"
      ],
      "text/plain": [
       "         Total Rides Total Drivers Total Fares Average Fare per Ride  \\\n",
       "Rural            125            78   $4,327.93                $34.62   \n",
       "Suburban         625           490  $19,356.33                $30.97   \n",
       "Urban          1,625         2,405  $39,854.38                $24.53   \n",
       "\n",
       "         Average Fare per Driver  \n",
       "Rural                     $55.49  \n",
       "Suburban                  $39.50  \n",
       "Urban                     $16.57  "
      ]
     },
     "execution_count": 21,
     "metadata": {},
     "output_type": "execute_result"
    }
   ],
   "source": [
    "summary_df[\"Total Rides\"] = summary_df[\"Total Rides\"].map(\"{:,}\".format)\n",
    "summary_df[\"Total Drivers\"] = summary_df[\"Total Drivers\"].map(\"{:,}\".format)\n",
    "summary_df[\"Total Fares\"] = summary_df[\"Total Fares\"].map(\"${:,.2f}\".format)\n",
    "summary_df[\"Average Fare per Ride\"] = summary_df[\"Average Fare per Ride\"].map(\"${:.2f}\".format)\n",
    "summary_df[\"Average Fare per Driver\"] = summary_df[\"Average Fare per Driver\"].map(\"${:.2f}\".format)\n",
    "\n",
    "summary_df"
   ]
  },
  {
   "cell_type": "markdown",
   "metadata": {},
   "source": [
    "## Task 2: Create a Multiple-Line Plot for the Sum of the Fares for Each City Type"
   ]
  },
  {
   "cell_type": "markdown",
   "metadata": {},
   "source": [
    "### 1. Rename the columns in the PyBer Data DataFrame."
   ]
  },
  {
   "cell_type": "code",
   "execution_count": 22,
   "metadata": {},
   "outputs": [
    {
     "data": {
      "text/html": [
       "<div>\n",
       "<style scoped>\n",
       "    .dataframe tbody tr th:only-of-type {\n",
       "        vertical-align: middle;\n",
       "    }\n",
       "\n",
       "    .dataframe tbody tr th {\n",
       "        vertical-align: top;\n",
       "    }\n",
       "\n",
       "    .dataframe thead th {\n",
       "        text-align: right;\n",
       "    }\n",
       "</style>\n",
       "<table border=\"1\" class=\"dataframe\">\n",
       "  <thead>\n",
       "    <tr style=\"text-align: right;\">\n",
       "      <th></th>\n",
       "      <th>City</th>\n",
       "      <th>Date</th>\n",
       "      <th>Fare</th>\n",
       "      <th>Ride Id</th>\n",
       "      <th>No. Drivers</th>\n",
       "      <th>City Type</th>\n",
       "    </tr>\n",
       "  </thead>\n",
       "  <tbody>\n",
       "    <tr>\n",
       "      <td>0</td>\n",
       "      <td>Lake Jonathanshire</td>\n",
       "      <td>2019-01-14 10:14:22</td>\n",
       "      <td>13.83</td>\n",
       "      <td>5739410935873</td>\n",
       "      <td>5</td>\n",
       "      <td>Urban</td>\n",
       "    </tr>\n",
       "    <tr>\n",
       "      <td>1</td>\n",
       "      <td>South Michelleport</td>\n",
       "      <td>2019-03-04 18:24:09</td>\n",
       "      <td>30.24</td>\n",
       "      <td>2343912425577</td>\n",
       "      <td>72</td>\n",
       "      <td>Urban</td>\n",
       "    </tr>\n",
       "    <tr>\n",
       "      <td>2</td>\n",
       "      <td>Port Samanthamouth</td>\n",
       "      <td>2019-02-24 04:29:00</td>\n",
       "      <td>33.44</td>\n",
       "      <td>2005065760003</td>\n",
       "      <td>57</td>\n",
       "      <td>Urban</td>\n",
       "    </tr>\n",
       "    <tr>\n",
       "      <td>3</td>\n",
       "      <td>Rodneyfort</td>\n",
       "      <td>2019-02-10 23:22:03</td>\n",
       "      <td>23.44</td>\n",
       "      <td>5149245426178</td>\n",
       "      <td>34</td>\n",
       "      <td>Urban</td>\n",
       "    </tr>\n",
       "    <tr>\n",
       "      <td>4</td>\n",
       "      <td>South Jack</td>\n",
       "      <td>2019-03-06 04:28:35</td>\n",
       "      <td>34.58</td>\n",
       "      <td>3908451377344</td>\n",
       "      <td>46</td>\n",
       "      <td>Urban</td>\n",
       "    </tr>\n",
       "    <tr>\n",
       "      <td>5</td>\n",
       "      <td>South Latoya</td>\n",
       "      <td>2019-03-11 12:26:48</td>\n",
       "      <td>9.52</td>\n",
       "      <td>1994999424437</td>\n",
       "      <td>10</td>\n",
       "      <td>Urban</td>\n",
       "    </tr>\n",
       "    <tr>\n",
       "      <td>6</td>\n",
       "      <td>New Paulville</td>\n",
       "      <td>2019-02-27 11:17:56</td>\n",
       "      <td>43.25</td>\n",
       "      <td>793208410091</td>\n",
       "      <td>44</td>\n",
       "      <td>Urban</td>\n",
       "    </tr>\n",
       "    <tr>\n",
       "      <td>7</td>\n",
       "      <td>Simpsonburgh</td>\n",
       "      <td>2019-04-26 00:43:24</td>\n",
       "      <td>35.98</td>\n",
       "      <td>111953927754</td>\n",
       "      <td>21</td>\n",
       "      <td>Urban</td>\n",
       "    </tr>\n",
       "    <tr>\n",
       "      <td>8</td>\n",
       "      <td>South Karenland</td>\n",
       "      <td>2019-01-08 03:28:48</td>\n",
       "      <td>35.09</td>\n",
       "      <td>7995623208694</td>\n",
       "      <td>4</td>\n",
       "      <td>Urban</td>\n",
       "    </tr>\n",
       "    <tr>\n",
       "      <td>9</td>\n",
       "      <td>North Jasmine</td>\n",
       "      <td>2019-03-09 06:26:29</td>\n",
       "      <td>42.81</td>\n",
       "      <td>5327642267789</td>\n",
       "      <td>33</td>\n",
       "      <td>Urban</td>\n",
       "    </tr>\n",
       "  </tbody>\n",
       "</table>\n",
       "</div>"
      ],
      "text/plain": [
       "                 City                 Date   Fare        Ride Id  No. Drivers  \\\n",
       "0  Lake Jonathanshire  2019-01-14 10:14:22  13.83  5739410935873            5   \n",
       "1  South Michelleport  2019-03-04 18:24:09  30.24  2343912425577           72   \n",
       "2  Port Samanthamouth  2019-02-24 04:29:00  33.44  2005065760003           57   \n",
       "3          Rodneyfort  2019-02-10 23:22:03  23.44  5149245426178           34   \n",
       "4          South Jack  2019-03-06 04:28:35  34.58  3908451377344           46   \n",
       "5        South Latoya  2019-03-11 12:26:48   9.52  1994999424437           10   \n",
       "6       New Paulville  2019-02-27 11:17:56  43.25   793208410091           44   \n",
       "7        Simpsonburgh  2019-04-26 00:43:24  35.98   111953927754           21   \n",
       "8     South Karenland  2019-01-08 03:28:48  35.09  7995623208694            4   \n",
       "9       North Jasmine  2019-03-09 06:26:29  42.81  5327642267789           33   \n",
       "\n",
       "  City Type  \n",
       "0     Urban  \n",
       "1     Urban  \n",
       "2     Urban  \n",
       "3     Urban  \n",
       "4     Urban  \n",
       "5     Urban  \n",
       "6     Urban  \n",
       "7     Urban  \n",
       "8     Urban  \n",
       "9     Urban  "
      ]
     },
     "execution_count": 22,
     "metadata": {},
     "output_type": "execute_result"
    }
   ],
   "source": [
    "pyber_data_df = pyber_data_df.rename(columns =\n",
    "                                     {\"city\": \"City\",\n",
    "                                     \"date\": \"Date\", \n",
    "                                     \"fare\": \"Fare\", \n",
    "                                     \"ride_id\": \"Ride Id\",\n",
    "                                     \"driver_count\": \"No. Drivers\",\n",
    "                                     \"type\": \"City Type\"})\n",
    "\n",
    "pyber_data_df.head(10)"
   ]
  },
  {
   "cell_type": "markdown",
   "metadata": {},
   "source": [
    "### 2. Set the index column to the Date Column."
   ]
  },
  {
   "cell_type": "code",
   "execution_count": 23,
   "metadata": {},
   "outputs": [],
   "source": [
    "pyber_data_df.set_index(pyber_data_df[\"Date\"], inplace=True)"
   ]
  },
  {
   "cell_type": "code",
   "execution_count": 24,
   "metadata": {},
   "outputs": [
    {
     "name": "stdout",
     "output_type": "stream",
     "text": [
      "<class 'pandas.core.frame.DataFrame'>\n",
      "Index: 2375 entries, 2019-01-14 10:14:22 to 2019-04-25 10:20:13\n",
      "Data columns (total 6 columns):\n",
      "City           2375 non-null object\n",
      "Date           2375 non-null object\n",
      "Fare           2375 non-null float64\n",
      "Ride Id        2375 non-null int64\n",
      "No. Drivers    2375 non-null int64\n",
      "City Type      2375 non-null object\n",
      "dtypes: float64(1), int64(2), object(3)\n",
      "memory usage: 129.9+ KB\n"
     ]
    }
   ],
   "source": [
    "pyber_data_df.info()"
   ]
  },
  {
   "cell_type": "markdown",
   "metadata": {},
   "source": [
    "### 3. Create a new DataFrame for fares and include only the Date, City Type, and Fare columns using the copy() method on the merged DataFrame."
   ]
  },
  {
   "cell_type": "code",
   "execution_count": 25,
   "metadata": {},
   "outputs": [
    {
     "data": {
      "text/html": [
       "<div>\n",
       "<style scoped>\n",
       "    .dataframe tbody tr th:only-of-type {\n",
       "        vertical-align: middle;\n",
       "    }\n",
       "\n",
       "    .dataframe tbody tr th {\n",
       "        vertical-align: top;\n",
       "    }\n",
       "\n",
       "    .dataframe thead th {\n",
       "        text-align: right;\n",
       "    }\n",
       "</style>\n",
       "<table border=\"1\" class=\"dataframe\">\n",
       "  <thead>\n",
       "    <tr style=\"text-align: right;\">\n",
       "      <th></th>\n",
       "      <th>Date</th>\n",
       "      <th>City Type</th>\n",
       "      <th>Fare</th>\n",
       "    </tr>\n",
       "    <tr>\n",
       "      <th>Date</th>\n",
       "      <th></th>\n",
       "      <th></th>\n",
       "      <th></th>\n",
       "    </tr>\n",
       "  </thead>\n",
       "  <tbody>\n",
       "    <tr>\n",
       "      <td>2019-01-14 10:14:22</td>\n",
       "      <td>2019-01-14 10:14:22</td>\n",
       "      <td>Urban</td>\n",
       "      <td>13.83</td>\n",
       "    </tr>\n",
       "    <tr>\n",
       "      <td>2019-03-04 18:24:09</td>\n",
       "      <td>2019-03-04 18:24:09</td>\n",
       "      <td>Urban</td>\n",
       "      <td>30.24</td>\n",
       "    </tr>\n",
       "    <tr>\n",
       "      <td>2019-02-24 04:29:00</td>\n",
       "      <td>2019-02-24 04:29:00</td>\n",
       "      <td>Urban</td>\n",
       "      <td>33.44</td>\n",
       "    </tr>\n",
       "    <tr>\n",
       "      <td>2019-02-10 23:22:03</td>\n",
       "      <td>2019-02-10 23:22:03</td>\n",
       "      <td>Urban</td>\n",
       "      <td>23.44</td>\n",
       "    </tr>\n",
       "    <tr>\n",
       "      <td>2019-03-06 04:28:35</td>\n",
       "      <td>2019-03-06 04:28:35</td>\n",
       "      <td>Urban</td>\n",
       "      <td>34.58</td>\n",
       "    </tr>\n",
       "    <tr>\n",
       "      <td>2019-03-11 12:26:48</td>\n",
       "      <td>2019-03-11 12:26:48</td>\n",
       "      <td>Urban</td>\n",
       "      <td>9.52</td>\n",
       "    </tr>\n",
       "    <tr>\n",
       "      <td>2019-02-27 11:17:56</td>\n",
       "      <td>2019-02-27 11:17:56</td>\n",
       "      <td>Urban</td>\n",
       "      <td>43.25</td>\n",
       "    </tr>\n",
       "    <tr>\n",
       "      <td>2019-04-26 00:43:24</td>\n",
       "      <td>2019-04-26 00:43:24</td>\n",
       "      <td>Urban</td>\n",
       "      <td>35.98</td>\n",
       "    </tr>\n",
       "    <tr>\n",
       "      <td>2019-01-08 03:28:48</td>\n",
       "      <td>2019-01-08 03:28:48</td>\n",
       "      <td>Urban</td>\n",
       "      <td>35.09</td>\n",
       "    </tr>\n",
       "    <tr>\n",
       "      <td>2019-03-09 06:26:29</td>\n",
       "      <td>2019-03-09 06:26:29</td>\n",
       "      <td>Urban</td>\n",
       "      <td>42.81</td>\n",
       "    </tr>\n",
       "  </tbody>\n",
       "</table>\n",
       "</div>"
      ],
      "text/plain": [
       "                                    Date City Type   Fare\n",
       "Date                                                     \n",
       "2019-01-14 10:14:22  2019-01-14 10:14:22     Urban  13.83\n",
       "2019-03-04 18:24:09  2019-03-04 18:24:09     Urban  30.24\n",
       "2019-02-24 04:29:00  2019-02-24 04:29:00     Urban  33.44\n",
       "2019-02-10 23:22:03  2019-02-10 23:22:03     Urban  23.44\n",
       "2019-03-06 04:28:35  2019-03-06 04:28:35     Urban  34.58\n",
       "2019-03-11 12:26:48  2019-03-11 12:26:48     Urban   9.52\n",
       "2019-02-27 11:17:56  2019-02-27 11:17:56     Urban  43.25\n",
       "2019-04-26 00:43:24  2019-04-26 00:43:24     Urban  35.98\n",
       "2019-01-08 03:28:48  2019-01-08 03:28:48     Urban  35.09\n",
       "2019-03-09 06:26:29  2019-03-09 06:26:29     Urban  42.81"
      ]
     },
     "execution_count": 25,
     "metadata": {},
     "output_type": "execute_result"
    }
   ],
   "source": [
    "pyber_cities_fares= pyber_data_df[[\"Date\", \"City Type\", \"Fare\"]].copy()\n",
    "pyber_cities_fares.head(10)"
   ]
  },
  {
   "cell_type": "markdown",
   "metadata": {},
   "source": [
    "### 4. Drop the extra Date column."
   ]
  },
  {
   "cell_type": "code",
   "execution_count": 26,
   "metadata": {},
   "outputs": [
    {
     "data": {
      "text/html": [
       "<div>\n",
       "<style scoped>\n",
       "    .dataframe tbody tr th:only-of-type {\n",
       "        vertical-align: middle;\n",
       "    }\n",
       "\n",
       "    .dataframe tbody tr th {\n",
       "        vertical-align: top;\n",
       "    }\n",
       "\n",
       "    .dataframe thead th {\n",
       "        text-align: right;\n",
       "    }\n",
       "</style>\n",
       "<table border=\"1\" class=\"dataframe\">\n",
       "  <thead>\n",
       "    <tr style=\"text-align: right;\">\n",
       "      <th></th>\n",
       "      <th>City Type</th>\n",
       "      <th>Fare</th>\n",
       "    </tr>\n",
       "    <tr>\n",
       "      <th>Date</th>\n",
       "      <th></th>\n",
       "      <th></th>\n",
       "    </tr>\n",
       "  </thead>\n",
       "  <tbody>\n",
       "    <tr>\n",
       "      <td>2019-01-14 10:14:22</td>\n",
       "      <td>Urban</td>\n",
       "      <td>13.83</td>\n",
       "    </tr>\n",
       "    <tr>\n",
       "      <td>2019-03-04 18:24:09</td>\n",
       "      <td>Urban</td>\n",
       "      <td>30.24</td>\n",
       "    </tr>\n",
       "    <tr>\n",
       "      <td>2019-02-24 04:29:00</td>\n",
       "      <td>Urban</td>\n",
       "      <td>33.44</td>\n",
       "    </tr>\n",
       "    <tr>\n",
       "      <td>2019-02-10 23:22:03</td>\n",
       "      <td>Urban</td>\n",
       "      <td>23.44</td>\n",
       "    </tr>\n",
       "    <tr>\n",
       "      <td>2019-03-06 04:28:35</td>\n",
       "      <td>Urban</td>\n",
       "      <td>34.58</td>\n",
       "    </tr>\n",
       "    <tr>\n",
       "      <td>2019-03-11 12:26:48</td>\n",
       "      <td>Urban</td>\n",
       "      <td>9.52</td>\n",
       "    </tr>\n",
       "    <tr>\n",
       "      <td>2019-02-27 11:17:56</td>\n",
       "      <td>Urban</td>\n",
       "      <td>43.25</td>\n",
       "    </tr>\n",
       "    <tr>\n",
       "      <td>2019-04-26 00:43:24</td>\n",
       "      <td>Urban</td>\n",
       "      <td>35.98</td>\n",
       "    </tr>\n",
       "    <tr>\n",
       "      <td>2019-01-08 03:28:48</td>\n",
       "      <td>Urban</td>\n",
       "      <td>35.09</td>\n",
       "    </tr>\n",
       "    <tr>\n",
       "      <td>2019-03-09 06:26:29</td>\n",
       "      <td>Urban</td>\n",
       "      <td>42.81</td>\n",
       "    </tr>\n",
       "  </tbody>\n",
       "</table>\n",
       "</div>"
      ],
      "text/plain": [
       "                    City Type   Fare\n",
       "Date                                \n",
       "2019-01-14 10:14:22     Urban  13.83\n",
       "2019-03-04 18:24:09     Urban  30.24\n",
       "2019-02-24 04:29:00     Urban  33.44\n",
       "2019-02-10 23:22:03     Urban  23.44\n",
       "2019-03-06 04:28:35     Urban  34.58\n",
       "2019-03-11 12:26:48     Urban   9.52\n",
       "2019-02-27 11:17:56     Urban  43.25\n",
       "2019-04-26 00:43:24     Urban  35.98\n",
       "2019-01-08 03:28:48     Urban  35.09\n",
       "2019-03-09 06:26:29     Urban  42.81"
      ]
     },
     "execution_count": 26,
     "metadata": {},
     "output_type": "execute_result"
    }
   ],
   "source": [
    "pyber_cities_fares.drop([\"Date\"], axis=1, inplace=True)\n",
    "pyber_cities_fares.head(10)"
   ]
  },
  {
   "cell_type": "markdown",
   "metadata": {},
   "source": [
    "### 5. Set the index to the datetime data type."
   ]
  },
  {
   "cell_type": "code",
   "execution_count": 27,
   "metadata": {},
   "outputs": [
    {
     "data": {
      "text/html": [
       "<div>\n",
       "<style scoped>\n",
       "    .dataframe tbody tr th:only-of-type {\n",
       "        vertical-align: middle;\n",
       "    }\n",
       "\n",
       "    .dataframe tbody tr th {\n",
       "        vertical-align: top;\n",
       "    }\n",
       "\n",
       "    .dataframe thead th {\n",
       "        text-align: right;\n",
       "    }\n",
       "</style>\n",
       "<table border=\"1\" class=\"dataframe\">\n",
       "  <thead>\n",
       "    <tr style=\"text-align: right;\">\n",
       "      <th></th>\n",
       "      <th>City Type</th>\n",
       "      <th>Fare</th>\n",
       "    </tr>\n",
       "    <tr>\n",
       "      <th>Date</th>\n",
       "      <th></th>\n",
       "      <th></th>\n",
       "    </tr>\n",
       "  </thead>\n",
       "  <tbody>\n",
       "    <tr>\n",
       "      <td>2019-01-14 10:14:22</td>\n",
       "      <td>Urban</td>\n",
       "      <td>13.83</td>\n",
       "    </tr>\n",
       "    <tr>\n",
       "      <td>2019-03-04 18:24:09</td>\n",
       "      <td>Urban</td>\n",
       "      <td>30.24</td>\n",
       "    </tr>\n",
       "    <tr>\n",
       "      <td>2019-02-24 04:29:00</td>\n",
       "      <td>Urban</td>\n",
       "      <td>33.44</td>\n",
       "    </tr>\n",
       "    <tr>\n",
       "      <td>2019-02-10 23:22:03</td>\n",
       "      <td>Urban</td>\n",
       "      <td>23.44</td>\n",
       "    </tr>\n",
       "    <tr>\n",
       "      <td>2019-03-06 04:28:35</td>\n",
       "      <td>Urban</td>\n",
       "      <td>34.58</td>\n",
       "    </tr>\n",
       "    <tr>\n",
       "      <td>2019-03-11 12:26:48</td>\n",
       "      <td>Urban</td>\n",
       "      <td>9.52</td>\n",
       "    </tr>\n",
       "    <tr>\n",
       "      <td>2019-02-27 11:17:56</td>\n",
       "      <td>Urban</td>\n",
       "      <td>43.25</td>\n",
       "    </tr>\n",
       "    <tr>\n",
       "      <td>2019-04-26 00:43:24</td>\n",
       "      <td>Urban</td>\n",
       "      <td>35.98</td>\n",
       "    </tr>\n",
       "    <tr>\n",
       "      <td>2019-01-08 03:28:48</td>\n",
       "      <td>Urban</td>\n",
       "      <td>35.09</td>\n",
       "    </tr>\n",
       "    <tr>\n",
       "      <td>2019-03-09 06:26:29</td>\n",
       "      <td>Urban</td>\n",
       "      <td>42.81</td>\n",
       "    </tr>\n",
       "  </tbody>\n",
       "</table>\n",
       "</div>"
      ],
      "text/plain": [
       "                    City Type   Fare\n",
       "Date                                \n",
       "2019-01-14 10:14:22     Urban  13.83\n",
       "2019-03-04 18:24:09     Urban  30.24\n",
       "2019-02-24 04:29:00     Urban  33.44\n",
       "2019-02-10 23:22:03     Urban  23.44\n",
       "2019-03-06 04:28:35     Urban  34.58\n",
       "2019-03-11 12:26:48     Urban   9.52\n",
       "2019-02-27 11:17:56     Urban  43.25\n",
       "2019-04-26 00:43:24     Urban  35.98\n",
       "2019-01-08 03:28:48     Urban  35.09\n",
       "2019-03-09 06:26:29     Urban  42.81"
      ]
     },
     "execution_count": 27,
     "metadata": {},
     "output_type": "execute_result"
    }
   ],
   "source": [
    "pyber_cities_fares.index = pd.to_datetime(pyber_data_df.index)\n",
    "pyber_cities_fares.head(10)"
   ]
  },
  {
   "cell_type": "markdown",
   "metadata": {},
   "source": [
    "### 6. Check the DataFrame using the info() method to make sure the index is a datetime data type."
   ]
  },
  {
   "cell_type": "code",
   "execution_count": 28,
   "metadata": {},
   "outputs": [
    {
     "name": "stdout",
     "output_type": "stream",
     "text": [
      "<class 'pandas.core.frame.DataFrame'>\n",
      "DatetimeIndex: 2375 entries, 2019-01-14 10:14:22 to 2019-04-25 10:20:13\n",
      "Data columns (total 2 columns):\n",
      "City Type    2375 non-null object\n",
      "Fare         2375 non-null float64\n",
      "dtypes: float64(1), object(1)\n",
      "memory usage: 55.7+ KB\n"
     ]
    }
   ],
   "source": [
    "pyber_cities_fares.info()"
   ]
  },
  {
   "cell_type": "markdown",
   "metadata": {},
   "source": [
    "### 7. Calculate the sum() of fares by city type and date using groupby() to create a new DataFrame."
   ]
  },
  {
   "cell_type": "code",
   "execution_count": 29,
   "metadata": {},
   "outputs": [
    {
     "data": {
      "text/html": [
       "<div>\n",
       "<style scoped>\n",
       "    .dataframe tbody tr th:only-of-type {\n",
       "        vertical-align: middle;\n",
       "    }\n",
       "\n",
       "    .dataframe tbody tr th {\n",
       "        vertical-align: top;\n",
       "    }\n",
       "\n",
       "    .dataframe thead th {\n",
       "        text-align: right;\n",
       "    }\n",
       "</style>\n",
       "<table border=\"1\" class=\"dataframe\">\n",
       "  <thead>\n",
       "    <tr style=\"text-align: right;\">\n",
       "      <th></th>\n",
       "      <th></th>\n",
       "      <th>Fare</th>\n",
       "    </tr>\n",
       "    <tr>\n",
       "      <th>City Type</th>\n",
       "      <th>Date</th>\n",
       "      <th></th>\n",
       "    </tr>\n",
       "  </thead>\n",
       "  <tbody>\n",
       "    <tr>\n",
       "      <td rowspan=\"5\" valign=\"top\">Rural</td>\n",
       "      <td>2019-01-01 09:45:36</td>\n",
       "      <td>43.69</td>\n",
       "    </tr>\n",
       "    <tr>\n",
       "      <td>2019-01-02 11:18:32</td>\n",
       "      <td>52.12</td>\n",
       "    </tr>\n",
       "    <tr>\n",
       "      <td>2019-01-03 19:51:01</td>\n",
       "      <td>19.90</td>\n",
       "    </tr>\n",
       "    <tr>\n",
       "      <td>2019-01-04 03:31:26</td>\n",
       "      <td>24.88</td>\n",
       "    </tr>\n",
       "    <tr>\n",
       "      <td>2019-01-06 07:38:40</td>\n",
       "      <td>47.33</td>\n",
       "    </tr>\n",
       "    <tr>\n",
       "      <td>...</td>\n",
       "      <td>...</td>\n",
       "      <td>...</td>\n",
       "    </tr>\n",
       "    <tr>\n",
       "      <td rowspan=\"5\" valign=\"top\">Urban</td>\n",
       "      <td>2019-05-08 04:20:00</td>\n",
       "      <td>21.99</td>\n",
       "    </tr>\n",
       "    <tr>\n",
       "      <td>2019-05-08 04:39:49</td>\n",
       "      <td>18.45</td>\n",
       "    </tr>\n",
       "    <tr>\n",
       "      <td>2019-05-08 07:29:01</td>\n",
       "      <td>18.55</td>\n",
       "    </tr>\n",
       "    <tr>\n",
       "      <td>2019-05-08 11:38:35</td>\n",
       "      <td>19.77</td>\n",
       "    </tr>\n",
       "    <tr>\n",
       "      <td>2019-05-08 13:10:18</td>\n",
       "      <td>18.04</td>\n",
       "    </tr>\n",
       "  </tbody>\n",
       "</table>\n",
       "<p>2375 rows × 1 columns</p>\n",
       "</div>"
      ],
      "text/plain": [
       "                                Fare\n",
       "City Type Date                      \n",
       "Rural     2019-01-01 09:45:36  43.69\n",
       "          2019-01-02 11:18:32  52.12\n",
       "          2019-01-03 19:51:01  19.90\n",
       "          2019-01-04 03:31:26  24.88\n",
       "          2019-01-06 07:38:40  47.33\n",
       "...                              ...\n",
       "Urban     2019-05-08 04:20:00  21.99\n",
       "          2019-05-08 04:39:49  18.45\n",
       "          2019-05-08 07:29:01  18.55\n",
       "          2019-05-08 11:38:35  19.77\n",
       "          2019-05-08 13:10:18  18.04\n",
       "\n",
       "[2375 rows x 1 columns]"
      ]
     },
     "execution_count": 29,
     "metadata": {},
     "output_type": "execute_result"
    }
   ],
   "source": [
    "sum_fares = pyber_cities_fares.groupby([\"City Type\", \"Date\"]).sum()[[\"Fare\"]]\n",
    "sum_fares"
   ]
  },
  {
   "cell_type": "code",
   "execution_count": 30,
   "metadata": {},
   "outputs": [
    {
     "data": {
      "text/html": [
       "<div>\n",
       "<style scoped>\n",
       "    .dataframe tbody tr th:only-of-type {\n",
       "        vertical-align: middle;\n",
       "    }\n",
       "\n",
       "    .dataframe tbody tr th {\n",
       "        vertical-align: top;\n",
       "    }\n",
       "\n",
       "    .dataframe thead th {\n",
       "        text-align: right;\n",
       "    }\n",
       "</style>\n",
       "<table border=\"1\" class=\"dataframe\">\n",
       "  <thead>\n",
       "    <tr style=\"text-align: right;\">\n",
       "      <th></th>\n",
       "      <th></th>\n",
       "      <th>Fare</th>\n",
       "    </tr>\n",
       "    <tr>\n",
       "      <th>City Type</th>\n",
       "      <th>Date</th>\n",
       "      <th></th>\n",
       "    </tr>\n",
       "  </thead>\n",
       "  <tbody>\n",
       "    <tr>\n",
       "      <td rowspan=\"5\" valign=\"top\">Rural</td>\n",
       "      <td>2019-01-01 09:45:36</td>\n",
       "      <td>43.69</td>\n",
       "    </tr>\n",
       "    <tr>\n",
       "      <td>2019-01-02 11:18:32</td>\n",
       "      <td>52.12</td>\n",
       "    </tr>\n",
       "    <tr>\n",
       "      <td>2019-01-03 19:51:01</td>\n",
       "      <td>19.90</td>\n",
       "    </tr>\n",
       "    <tr>\n",
       "      <td>2019-01-04 03:31:26</td>\n",
       "      <td>24.88</td>\n",
       "    </tr>\n",
       "    <tr>\n",
       "      <td>2019-01-06 07:38:40</td>\n",
       "      <td>47.33</td>\n",
       "    </tr>\n",
       "    <tr>\n",
       "      <td>...</td>\n",
       "      <td>...</td>\n",
       "      <td>...</td>\n",
       "    </tr>\n",
       "    <tr>\n",
       "      <td rowspan=\"5\" valign=\"top\">Urban</td>\n",
       "      <td>2019-05-08 04:20:00</td>\n",
       "      <td>21.99</td>\n",
       "    </tr>\n",
       "    <tr>\n",
       "      <td>2019-05-08 04:39:49</td>\n",
       "      <td>18.45</td>\n",
       "    </tr>\n",
       "    <tr>\n",
       "      <td>2019-05-08 07:29:01</td>\n",
       "      <td>18.55</td>\n",
       "    </tr>\n",
       "    <tr>\n",
       "      <td>2019-05-08 11:38:35</td>\n",
       "      <td>19.77</td>\n",
       "    </tr>\n",
       "    <tr>\n",
       "      <td>2019-05-08 13:10:18</td>\n",
       "      <td>18.04</td>\n",
       "    </tr>\n",
       "  </tbody>\n",
       "</table>\n",
       "<p>2375 rows × 1 columns</p>\n",
       "</div>"
      ],
      "text/plain": [
       "                                Fare\n",
       "City Type Date                      \n",
       "Rural     2019-01-01 09:45:36  43.69\n",
       "          2019-01-02 11:18:32  52.12\n",
       "          2019-01-03 19:51:01  19.90\n",
       "          2019-01-04 03:31:26  24.88\n",
       "          2019-01-06 07:38:40  47.33\n",
       "...                              ...\n",
       "Urban     2019-05-08 04:20:00  21.99\n",
       "          2019-05-08 04:39:49  18.45\n",
       "          2019-05-08 07:29:01  18.55\n",
       "          2019-05-08 11:38:35  19.77\n",
       "          2019-05-08 13:10:18  18.04\n",
       "\n",
       "[2375 rows x 1 columns]"
      ]
     },
     "execution_count": 30,
     "metadata": {},
     "output_type": "execute_result"
    }
   ],
   "source": [
    "sum_fares_df = pd.DataFrame(sum_fares)\n",
    "sum_fares_df"
   ]
  },
  {
   "cell_type": "markdown",
   "metadata": {},
   "source": [
    "### 8. Reset the index, which is needed for Step 10."
   ]
  },
  {
   "cell_type": "code",
   "execution_count": 31,
   "metadata": {},
   "outputs": [],
   "source": [
    "#sum_fares.index = pd.to_datetime(pyber_cities_fares.index)\n",
    "#sum_fares.head(10)"
   ]
  },
  {
   "cell_type": "code",
   "execution_count": 32,
   "metadata": {},
   "outputs": [
    {
     "data": {
      "text/html": [
       "<div>\n",
       "<style scoped>\n",
       "    .dataframe tbody tr th:only-of-type {\n",
       "        vertical-align: middle;\n",
       "    }\n",
       "\n",
       "    .dataframe tbody tr th {\n",
       "        vertical-align: top;\n",
       "    }\n",
       "\n",
       "    .dataframe thead th {\n",
       "        text-align: right;\n",
       "    }\n",
       "</style>\n",
       "<table border=\"1\" class=\"dataframe\">\n",
       "  <thead>\n",
       "    <tr style=\"text-align: right;\">\n",
       "      <th></th>\n",
       "      <th>City Type</th>\n",
       "      <th>Date</th>\n",
       "      <th>Fare</th>\n",
       "    </tr>\n",
       "  </thead>\n",
       "  <tbody>\n",
       "    <tr>\n",
       "      <td>0</td>\n",
       "      <td>Rural</td>\n",
       "      <td>2019-01-01 09:45:36</td>\n",
       "      <td>43.69</td>\n",
       "    </tr>\n",
       "    <tr>\n",
       "      <td>1</td>\n",
       "      <td>Rural</td>\n",
       "      <td>2019-01-02 11:18:32</td>\n",
       "      <td>52.12</td>\n",
       "    </tr>\n",
       "    <tr>\n",
       "      <td>2</td>\n",
       "      <td>Rural</td>\n",
       "      <td>2019-01-03 19:51:01</td>\n",
       "      <td>19.90</td>\n",
       "    </tr>\n",
       "    <tr>\n",
       "      <td>3</td>\n",
       "      <td>Rural</td>\n",
       "      <td>2019-01-04 03:31:26</td>\n",
       "      <td>24.88</td>\n",
       "    </tr>\n",
       "    <tr>\n",
       "      <td>4</td>\n",
       "      <td>Rural</td>\n",
       "      <td>2019-01-06 07:38:40</td>\n",
       "      <td>47.33</td>\n",
       "    </tr>\n",
       "    <tr>\n",
       "      <td>5</td>\n",
       "      <td>Rural</td>\n",
       "      <td>2019-01-08 06:19:45</td>\n",
       "      <td>19.39</td>\n",
       "    </tr>\n",
       "    <tr>\n",
       "      <td>6</td>\n",
       "      <td>Rural</td>\n",
       "      <td>2019-01-09 15:30:35</td>\n",
       "      <td>31.84</td>\n",
       "    </tr>\n",
       "    <tr>\n",
       "      <td>7</td>\n",
       "      <td>Rural</td>\n",
       "      <td>2019-01-11 04:39:27</td>\n",
       "      <td>16.42</td>\n",
       "    </tr>\n",
       "    <tr>\n",
       "      <td>8</td>\n",
       "      <td>Rural</td>\n",
       "      <td>2019-01-14 07:09:17</td>\n",
       "      <td>18.05</td>\n",
       "    </tr>\n",
       "    <tr>\n",
       "      <td>9</td>\n",
       "      <td>Rural</td>\n",
       "      <td>2019-01-14 15:58:48</td>\n",
       "      <td>54.10</td>\n",
       "    </tr>\n",
       "  </tbody>\n",
       "</table>\n",
       "</div>"
      ],
      "text/plain": [
       "  City Type                Date   Fare\n",
       "0     Rural 2019-01-01 09:45:36  43.69\n",
       "1     Rural 2019-01-02 11:18:32  52.12\n",
       "2     Rural 2019-01-03 19:51:01  19.90\n",
       "3     Rural 2019-01-04 03:31:26  24.88\n",
       "4     Rural 2019-01-06 07:38:40  47.33\n",
       "5     Rural 2019-01-08 06:19:45  19.39\n",
       "6     Rural 2019-01-09 15:30:35  31.84\n",
       "7     Rural 2019-01-11 04:39:27  16.42\n",
       "8     Rural 2019-01-14 07:09:17  18.05\n",
       "9     Rural 2019-01-14 15:58:48  54.10"
      ]
     },
     "execution_count": 32,
     "metadata": {},
     "output_type": "execute_result"
    }
   ],
   "source": [
    "sum_fares_df = sum_fares_df.reset_index()\n",
    "sum_fares_df.head(10)"
   ]
  },
  {
   "cell_type": "markdown",
   "metadata": {},
   "source": [
    "### 9. Create a pivot table DataFrame with the Date as the index and columns = 'City Type' with the Fare for each Date in each row. Note: There will be NaNs in some rows, which will be taken care of when you sum based on the date."
   ]
  },
  {
   "cell_type": "code",
   "execution_count": 33,
   "metadata": {},
   "outputs": [
    {
     "data": {
      "text/html": [
       "<div>\n",
       "<style scoped>\n",
       "    .dataframe tbody tr th:only-of-type {\n",
       "        vertical-align: middle;\n",
       "    }\n",
       "\n",
       "    .dataframe tbody tr th {\n",
       "        vertical-align: top;\n",
       "    }\n",
       "\n",
       "    .dataframe thead th {\n",
       "        text-align: right;\n",
       "    }\n",
       "</style>\n",
       "<table border=\"1\" class=\"dataframe\">\n",
       "  <thead>\n",
       "    <tr style=\"text-align: right;\">\n",
       "      <th>City Type</th>\n",
       "      <th>Rural</th>\n",
       "      <th>Suburban</th>\n",
       "      <th>Urban</th>\n",
       "    </tr>\n",
       "    <tr>\n",
       "      <th>Date</th>\n",
       "      <th></th>\n",
       "      <th></th>\n",
       "      <th></th>\n",
       "    </tr>\n",
       "  </thead>\n",
       "  <tbody>\n",
       "    <tr>\n",
       "      <td>2019-01-01 00:08:16</td>\n",
       "      <td>NaN</td>\n",
       "      <td>NaN</td>\n",
       "      <td>37.91</td>\n",
       "    </tr>\n",
       "    <tr>\n",
       "      <td>2019-01-01 00:46:46</td>\n",
       "      <td>NaN</td>\n",
       "      <td>47.74</td>\n",
       "      <td>NaN</td>\n",
       "    </tr>\n",
       "    <tr>\n",
       "      <td>2019-01-01 02:07:24</td>\n",
       "      <td>NaN</td>\n",
       "      <td>24.07</td>\n",
       "      <td>NaN</td>\n",
       "    </tr>\n",
       "    <tr>\n",
       "      <td>2019-01-01 03:46:50</td>\n",
       "      <td>NaN</td>\n",
       "      <td>NaN</td>\n",
       "      <td>7.57</td>\n",
       "    </tr>\n",
       "    <tr>\n",
       "      <td>2019-01-01 05:23:21</td>\n",
       "      <td>NaN</td>\n",
       "      <td>NaN</td>\n",
       "      <td>10.75</td>\n",
       "    </tr>\n",
       "    <tr>\n",
       "      <td>2019-01-01 09:45:36</td>\n",
       "      <td>43.69</td>\n",
       "      <td>NaN</td>\n",
       "      <td>NaN</td>\n",
       "    </tr>\n",
       "    <tr>\n",
       "      <td>2019-01-01 12:32:48</td>\n",
       "      <td>NaN</td>\n",
       "      <td>25.56</td>\n",
       "      <td>NaN</td>\n",
       "    </tr>\n",
       "    <tr>\n",
       "      <td>2019-01-01 14:40:14</td>\n",
       "      <td>NaN</td>\n",
       "      <td>NaN</td>\n",
       "      <td>5.42</td>\n",
       "    </tr>\n",
       "    <tr>\n",
       "      <td>2019-01-01 14:42:25</td>\n",
       "      <td>NaN</td>\n",
       "      <td>NaN</td>\n",
       "      <td>12.31</td>\n",
       "    </tr>\n",
       "    <tr>\n",
       "      <td>2019-01-01 14:52:06</td>\n",
       "      <td>NaN</td>\n",
       "      <td>31.15</td>\n",
       "      <td>NaN</td>\n",
       "    </tr>\n",
       "  </tbody>\n",
       "</table>\n",
       "</div>"
      ],
      "text/plain": [
       "City Type            Rural  Suburban  Urban\n",
       "Date                                       \n",
       "2019-01-01 00:08:16    NaN       NaN  37.91\n",
       "2019-01-01 00:46:46    NaN     47.74    NaN\n",
       "2019-01-01 02:07:24    NaN     24.07    NaN\n",
       "2019-01-01 03:46:50    NaN       NaN   7.57\n",
       "2019-01-01 05:23:21    NaN       NaN  10.75\n",
       "2019-01-01 09:45:36  43.69       NaN    NaN\n",
       "2019-01-01 12:32:48    NaN     25.56    NaN\n",
       "2019-01-01 14:40:14    NaN       NaN   5.42\n",
       "2019-01-01 14:42:25    NaN       NaN  12.31\n",
       "2019-01-01 14:52:06    NaN     31.15    NaN"
      ]
     },
     "execution_count": 33,
     "metadata": {},
     "output_type": "execute_result"
    }
   ],
   "source": [
    "sum_fares_pivot = sum_fares_df.pivot(index=\"Date\", columns=\"City Type\")[\"Fare\"]\n",
    "sum_fares_pivot.head(10)"
   ]
  },
  {
   "cell_type": "markdown",
   "metadata": {},
   "source": [
    "### 10. Create a new DataFrame from the pivot table DataFrame on the given dates [Jan. 1, 2019 to Apr. 28, 2019] using loc."
   ]
  },
  {
   "cell_type": "code",
   "execution_count": 34,
   "metadata": {},
   "outputs": [
    {
     "data": {
      "text/html": [
       "<div>\n",
       "<style scoped>\n",
       "    .dataframe tbody tr th:only-of-type {\n",
       "        vertical-align: middle;\n",
       "    }\n",
       "\n",
       "    .dataframe tbody tr th {\n",
       "        vertical-align: top;\n",
       "    }\n",
       "\n",
       "    .dataframe thead th {\n",
       "        text-align: right;\n",
       "    }\n",
       "</style>\n",
       "<table border=\"1\" class=\"dataframe\">\n",
       "  <thead>\n",
       "    <tr style=\"text-align: right;\">\n",
       "      <th>City Type</th>\n",
       "      <th>Rural</th>\n",
       "      <th>Suburban</th>\n",
       "      <th>Urban</th>\n",
       "    </tr>\n",
       "    <tr>\n",
       "      <th>Date</th>\n",
       "      <th></th>\n",
       "      <th></th>\n",
       "      <th></th>\n",
       "    </tr>\n",
       "  </thead>\n",
       "  <tbody>\n",
       "    <tr>\n",
       "      <td>2019-01-01 00:08:16</td>\n",
       "      <td>NaN</td>\n",
       "      <td>NaN</td>\n",
       "      <td>37.91</td>\n",
       "    </tr>\n",
       "    <tr>\n",
       "      <td>2019-01-01 00:46:46</td>\n",
       "      <td>NaN</td>\n",
       "      <td>47.74</td>\n",
       "      <td>NaN</td>\n",
       "    </tr>\n",
       "    <tr>\n",
       "      <td>2019-01-01 02:07:24</td>\n",
       "      <td>NaN</td>\n",
       "      <td>24.07</td>\n",
       "      <td>NaN</td>\n",
       "    </tr>\n",
       "    <tr>\n",
       "      <td>2019-01-01 03:46:50</td>\n",
       "      <td>NaN</td>\n",
       "      <td>NaN</td>\n",
       "      <td>7.57</td>\n",
       "    </tr>\n",
       "    <tr>\n",
       "      <td>2019-01-01 05:23:21</td>\n",
       "      <td>NaN</td>\n",
       "      <td>NaN</td>\n",
       "      <td>10.75</td>\n",
       "    </tr>\n",
       "    <tr>\n",
       "      <td>...</td>\n",
       "      <td>...</td>\n",
       "      <td>...</td>\n",
       "      <td>...</td>\n",
       "    </tr>\n",
       "    <tr>\n",
       "      <td>2019-04-28 14:28:36</td>\n",
       "      <td>NaN</td>\n",
       "      <td>NaN</td>\n",
       "      <td>11.46</td>\n",
       "    </tr>\n",
       "    <tr>\n",
       "      <td>2019-04-28 16:29:16</td>\n",
       "      <td>NaN</td>\n",
       "      <td>NaN</td>\n",
       "      <td>36.42</td>\n",
       "    </tr>\n",
       "    <tr>\n",
       "      <td>2019-04-28 17:26:52</td>\n",
       "      <td>NaN</td>\n",
       "      <td>NaN</td>\n",
       "      <td>31.43</td>\n",
       "    </tr>\n",
       "    <tr>\n",
       "      <td>2019-04-28 17:38:09</td>\n",
       "      <td>NaN</td>\n",
       "      <td>34.87</td>\n",
       "      <td>NaN</td>\n",
       "    </tr>\n",
       "    <tr>\n",
       "      <td>2019-04-28 19:35:03</td>\n",
       "      <td>NaN</td>\n",
       "      <td>16.96</td>\n",
       "      <td>NaN</td>\n",
       "    </tr>\n",
       "  </tbody>\n",
       "</table>\n",
       "<p>2196 rows × 3 columns</p>\n",
       "</div>"
      ],
      "text/plain": [
       "City Type            Rural  Suburban  Urban\n",
       "Date                                       \n",
       "2019-01-01 00:08:16    NaN       NaN  37.91\n",
       "2019-01-01 00:46:46    NaN     47.74    NaN\n",
       "2019-01-01 02:07:24    NaN     24.07    NaN\n",
       "2019-01-01 03:46:50    NaN       NaN   7.57\n",
       "2019-01-01 05:23:21    NaN       NaN  10.75\n",
       "...                    ...       ...    ...\n",
       "2019-04-28 14:28:36    NaN       NaN  11.46\n",
       "2019-04-28 16:29:16    NaN       NaN  36.42\n",
       "2019-04-28 17:26:52    NaN       NaN  31.43\n",
       "2019-04-28 17:38:09    NaN     34.87    NaN\n",
       "2019-04-28 19:35:03    NaN     16.96    NaN\n",
       "\n",
       "[2196 rows x 3 columns]"
      ]
     },
     "execution_count": 34,
     "metadata": {},
     "output_type": "execute_result"
    }
   ],
   "source": [
    "fares_Jan_April_df = sum_fares_pivot.loc['2019-01-01':'2019-04-28']\n",
    "fares_Jan_April_df"
   ]
  },
  {
   "cell_type": "markdown",
   "metadata": {},
   "source": [
    "### 11. Create a new DataFrame by setting the DataFrame you created in Step 10 with resample() in weekly bins, and calculate the sum() of the fares for each week."
   ]
  },
  {
   "cell_type": "code",
   "execution_count": 35,
   "metadata": {},
   "outputs": [
    {
     "data": {
      "text/html": [
       "<div>\n",
       "<style scoped>\n",
       "    .dataframe tbody tr th:only-of-type {\n",
       "        vertical-align: middle;\n",
       "    }\n",
       "\n",
       "    .dataframe tbody tr th {\n",
       "        vertical-align: top;\n",
       "    }\n",
       "\n",
       "    .dataframe thead th {\n",
       "        text-align: right;\n",
       "    }\n",
       "</style>\n",
       "<table border=\"1\" class=\"dataframe\">\n",
       "  <thead>\n",
       "    <tr style=\"text-align: right;\">\n",
       "      <th>City Type</th>\n",
       "      <th>Rural</th>\n",
       "      <th>Suburban</th>\n",
       "      <th>Urban</th>\n",
       "    </tr>\n",
       "    <tr>\n",
       "      <th>Date</th>\n",
       "      <th></th>\n",
       "      <th></th>\n",
       "      <th></th>\n",
       "    </tr>\n",
       "  </thead>\n",
       "  <tbody>\n",
       "    <tr>\n",
       "      <td>2019-01-06</td>\n",
       "      <td>187.92</td>\n",
       "      <td>721.60</td>\n",
       "      <td>1661.68</td>\n",
       "    </tr>\n",
       "    <tr>\n",
       "      <td>2019-01-13</td>\n",
       "      <td>67.65</td>\n",
       "      <td>1105.13</td>\n",
       "      <td>2050.43</td>\n",
       "    </tr>\n",
       "    <tr>\n",
       "      <td>2019-01-20</td>\n",
       "      <td>306.00</td>\n",
       "      <td>1218.20</td>\n",
       "      <td>1939.02</td>\n",
       "    </tr>\n",
       "    <tr>\n",
       "      <td>2019-01-27</td>\n",
       "      <td>179.69</td>\n",
       "      <td>1203.28</td>\n",
       "      <td>2129.51</td>\n",
       "    </tr>\n",
       "    <tr>\n",
       "      <td>2019-02-03</td>\n",
       "      <td>333.08</td>\n",
       "      <td>1042.79</td>\n",
       "      <td>2086.94</td>\n",
       "    </tr>\n",
       "    <tr>\n",
       "      <td>2019-02-10</td>\n",
       "      <td>115.80</td>\n",
       "      <td>974.34</td>\n",
       "      <td>2162.64</td>\n",
       "    </tr>\n",
       "    <tr>\n",
       "      <td>2019-02-17</td>\n",
       "      <td>95.82</td>\n",
       "      <td>1045.50</td>\n",
       "      <td>2235.07</td>\n",
       "    </tr>\n",
       "    <tr>\n",
       "      <td>2019-02-24</td>\n",
       "      <td>419.06</td>\n",
       "      <td>1412.74</td>\n",
       "      <td>2466.29</td>\n",
       "    </tr>\n",
       "    <tr>\n",
       "      <td>2019-03-03</td>\n",
       "      <td>175.14</td>\n",
       "      <td>858.46</td>\n",
       "      <td>2218.20</td>\n",
       "    </tr>\n",
       "    <tr>\n",
       "      <td>2019-03-10</td>\n",
       "      <td>303.94</td>\n",
       "      <td>925.27</td>\n",
       "      <td>2470.93</td>\n",
       "    </tr>\n",
       "    <tr>\n",
       "      <td>2019-03-17</td>\n",
       "      <td>163.39</td>\n",
       "      <td>906.20</td>\n",
       "      <td>2044.42</td>\n",
       "    </tr>\n",
       "    <tr>\n",
       "      <td>2019-03-24</td>\n",
       "      <td>189.76</td>\n",
       "      <td>1122.20</td>\n",
       "      <td>2368.37</td>\n",
       "    </tr>\n",
       "    <tr>\n",
       "      <td>2019-03-31</td>\n",
       "      <td>199.42</td>\n",
       "      <td>1045.06</td>\n",
       "      <td>1942.77</td>\n",
       "    </tr>\n",
       "    <tr>\n",
       "      <td>2019-04-07</td>\n",
       "      <td>501.24</td>\n",
       "      <td>1010.73</td>\n",
       "      <td>2356.70</td>\n",
       "    </tr>\n",
       "    <tr>\n",
       "      <td>2019-04-14</td>\n",
       "      <td>269.79</td>\n",
       "      <td>784.82</td>\n",
       "      <td>2390.72</td>\n",
       "    </tr>\n",
       "    <tr>\n",
       "      <td>2019-04-21</td>\n",
       "      <td>214.14</td>\n",
       "      <td>1149.27</td>\n",
       "      <td>2303.80</td>\n",
       "    </tr>\n",
       "    <tr>\n",
       "      <td>2019-04-28</td>\n",
       "      <td>191.85</td>\n",
       "      <td>1357.75</td>\n",
       "      <td>2238.29</td>\n",
       "    </tr>\n",
       "  </tbody>\n",
       "</table>\n",
       "</div>"
      ],
      "text/plain": [
       "City Type    Rural  Suburban    Urban\n",
       "Date                                 \n",
       "2019-01-06  187.92    721.60  1661.68\n",
       "2019-01-13   67.65   1105.13  2050.43\n",
       "2019-01-20  306.00   1218.20  1939.02\n",
       "2019-01-27  179.69   1203.28  2129.51\n",
       "2019-02-03  333.08   1042.79  2086.94\n",
       "2019-02-10  115.80    974.34  2162.64\n",
       "2019-02-17   95.82   1045.50  2235.07\n",
       "2019-02-24  419.06   1412.74  2466.29\n",
       "2019-03-03  175.14    858.46  2218.20\n",
       "2019-03-10  303.94    925.27  2470.93\n",
       "2019-03-17  163.39    906.20  2044.42\n",
       "2019-03-24  189.76   1122.20  2368.37\n",
       "2019-03-31  199.42   1045.06  1942.77\n",
       "2019-04-07  501.24   1010.73  2356.70\n",
       "2019-04-14  269.79    784.82  2390.72\n",
       "2019-04-21  214.14   1149.27  2303.80\n",
       "2019-04-28  191.85   1357.75  2238.29"
      ]
     },
     "execution_count": 35,
     "metadata": {},
     "output_type": "execute_result"
    }
   ],
   "source": [
    "weekly_fares_df = fares_Jan_April_df.resample(\"W\").sum()\n",
    "weekly_fares_df"
   ]
  },
  {
   "cell_type": "markdown",
   "metadata": {},
   "source": [
    "### 12. Using the object-oriented interface method, plot the DataFrame you created in Step 12 using the df.plot() function. "
   ]
  },
  {
   "cell_type": "code",
   "execution_count": 47,
   "metadata": {},
   "outputs": [
    {
     "data": {
      "image/png": "[encoded data removed]",
      "text/plain": [
       "<Figure size 1008x576 with 1 Axes>"
      ]
     },
     "metadata": {},
     "output_type": "display_data"
    }
   ],
   "source": [
    "# Use the graph style fivethirtyeight\n",
    "plt.style.use('fivethirtyeight')\n",
    "weekly_fares_df.plot(figsize=(14, 8))\n",
    "\n",
    "# Add graph properties\n",
    "plt.title(\"Total Fare by City Type\", fontsize=16)\n",
    "plt.ylabel(\"Fare ($USD)\", fontsize=12)\n",
    "plt.xlabel(\"Month\", fontsize=12)\n",
    "\n",
    "# Create a legend\n",
    "lgnd = plt.legend(fontsize=\"10\", loc=\"best\", title=\"City Type\")\n",
    "lgnd.get_title().set_fontsize(12)\n",
    "\n",
    "# Save figure\n",
    "plt.savefig(\"Analysis/Fig8.png\")\n",
    "\n",
    "# Show figure\n",
    "plt.show()"
   ]
  },
  {
   "cell_type": "code",
   "execution_count": null,
   "metadata": {},
   "outputs": [],
   "source": []
  }
 ],
 "metadata": {
  "celltoolbar": "Raw Cell Format",
  "kernelspec": {
   "display_name": "PythonData",
   "language": "python",
   "name": "pythondata"
  },
  "language_info": {
   "codemirror_mode": {
    "name": "ipython",
    "version": 3
   },
   "file_extension": ".py",
   "mimetype": "text/x-python",
   "name": "python",
   "nbconvert_exporter": "python",
   "pygments_lexer": "ipython3",
   "version": "3.7.4"
  }
 },
 "nbformat": 4,
 "nbformat_minor": 4
}
